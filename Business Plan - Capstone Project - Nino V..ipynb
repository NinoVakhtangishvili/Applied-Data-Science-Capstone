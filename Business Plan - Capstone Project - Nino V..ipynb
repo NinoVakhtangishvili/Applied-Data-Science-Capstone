{
    "cells": [
        {
            "cell_type": "markdown",
            "metadata": {
                "collapsed": true
            },
            "source": "# Business Plan - Capstone Project - Nino V."
        },
        {
            "cell_type": "markdown",
            "metadata": {},
            "source": "## Peer-graded Assignment - The Battle of Neighborhoods - \"Venue Discovery for Distribution Business\""
        },
        {
            "cell_type": "markdown",
            "metadata": {},
            "source": "### 1. A description of the problem and a discussion of the background. "
        },
        {
            "cell_type": "markdown",
            "metadata": {},
            "source": "For the purpose of this capstone project assignment, let's assume that there is a middle-sized wholesale distribution business which is delivering fresh produce and meats from Ontario farms to various companies such as restaurants, convenience stores, bakeries, and local meal kit delivery services.<br>\n\nThis wholesale distribution business owner is looking into expanding her delivery services to businesses in North York neighbourhood of Toronto. She is interested in the North York Neighbourhood because she knows that it is one of the largest areas of Toronto. <br>\n\nThis wholesale distribution business owner is looking to understand with the help of the data analysis:<br>\n\na)\twhat sorts of businesses are located in the North York neighbourhood of Toronto; <br>\nb)\thow many companies or venues are located in the North York neighbourhood of Toronto and its sub-regions (e.g., \u201cVictoria Village\u201d); and <br>\nc)\twhat are the top most popular venues? <br>\n\nThis information would allow the business owner to know what venues she should be contacting in North York to offers her wholesale distribution services of supplying fresh produce and meats from the Ontario farms. <br>\n"
        },
        {
            "cell_type": "markdown",
            "metadata": {},
            "source": "### 2. A description of the data and how it will be used to solve the problem. "
        },
        {
            "cell_type": "markdown",
            "metadata": {},
            "source": "The data that I will use to address the questions of the analysis will be the following:<br>\n\n1.\tToronto neighborhoods data sourced from https://en.wikipedia.org/wiki/List_of_postal_codes_of_Canada:_M <br>\n2.\tGeolocations data sourced from https://cocl.us/Geospatial_data <br>\n3.\tVenues data sourced from www.foursquare.com (including venue location, name and category)<br>\n\nThe obtained data will be analyzed to answer the questions of the study. <br>\nSpecifically, I will find the number of venues located in the North York area that can be served by the wholesale distribution business, the popularity of these venues, and categories of these venues. <br>\nI will then provide a conclusion as to whether the North York neighbourhood could be a good location for business expansion and serach of customers for the wholesale distribution business. <br>\n"
        },
        {
            "cell_type": "markdown",
            "metadata": {},
            "source": "### 3. Methodology "
        },
        {
            "cell_type": "markdown",
            "metadata": {},
            "source": "The obtained data will be analyzed to answer the questions of the study. Specifically, I find the number of venues located in the North York area that can be served by the wholesale distribution business, the popularity of these venues, and categories of these venues. I will then provide a conclusion as to whether the North York neighbourhood can be a good location for business expansion for a wholesale distribution business. <br>\n\nTo address questions of this analysis, I used exploratory data analysis, specifically: <br>\n\u2022\tTo group all the venues in the North York neighborhood by the type of the venue; <br>\n\u2022\tTo see how many venues of each type are in the North York neighborhood; <br>\n\u2022\tTo sort all of the venues based on their popularity in each area of the North York neighborhood using data obtained via www.foursquare.com. <br>\n"
        },
        {
            "cell_type": "markdown",
            "metadata": {},
            "source": "### 4. Results"
        },
        {
            "cell_type": "markdown",
            "metadata": {},
            "source": "The analysis showed that there are over 100 unique categories of businesses and venues in the North York neighborhood. Of which, the following categories can be of interest as prospective clients of the wholesale distribution business owner: restaurants (various cuisines and types, from fast food to upscale), bakeries, bars, breakfast cafes, diners, ice cream shops, and convenience stores. <br>\nThe analysis also provided names and locations of those places. <br>\nThe analysis also indicated which venues are most common in the corresponding areas of the North York neighborhood. There is at least 1 of top 3 most common venues in each area that can be of interest to the wholesale distribution business owner for the purpose of business expansion. <br>\n"
        },
        {
            "cell_type": "markdown",
            "metadata": {},
            "source": "### 5. Discussion"
        },
        {
            "cell_type": "markdown",
            "metadata": {},
            "source": "The analysis provided a quite surprising picture of the North York neighborhood because before the beginning of the analysis I assumed that the North York area, being a suburb of Toronto, would not have as many potential clients for a wholesale distribution business owner. This especially concerns the quantity of the dining venues. <br>"
        },
        {
            "cell_type": "markdown",
            "metadata": {},
            "source": "### 6. Conclusion"
        },
        {
            "cell_type": "markdown",
            "metadata": {},
            "source": "Through this analysis, I found out that North York neighborhood of Toronto may be an attractive option to explore for business expansion for the wholesale distribution business owner. <br>\n\nThis report may be informative for someone planning on expanding or starting a wholesale distribution business of delivering fresh produce and meats from Ontario. However, it does not cover all variables such as existing competition in the area, the produce demand forecast or even current fresh produce demand. <br>\n"
        },
        {
            "cell_type": "code",
            "execution_count": null,
            "metadata": {},
            "outputs": [],
            "source": ""
        }
    ],
    "metadata": {
        "kernelspec": {
            "display_name": "Python 3.6",
            "language": "python",
            "name": "python3"
        },
        "language_info": {
            "codemirror_mode": {
                "name": "ipython",
                "version": 3
            },
            "file_extension": ".py",
            "mimetype": "text/x-python",
            "name": "python",
            "nbconvert_exporter": "python",
            "pygments_lexer": "ipython3",
            "version": "3.6.9"
        }
    },
    "nbformat": 4,
    "nbformat_minor": 1
}