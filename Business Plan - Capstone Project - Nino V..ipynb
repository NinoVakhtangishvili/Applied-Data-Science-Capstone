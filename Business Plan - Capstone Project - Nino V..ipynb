{
    "cells": [
        {
            "cell_type": "markdown",
            "metadata": {
                "collapsed": true
            },
            "source": "# Business Plan - Capstone Project - Nino V."
        },
        {
            "cell_type": "markdown",
            "metadata": {},
            "source": "## Peer-graded Assignment - The Battle of Neighborhoods - \"Venue Discovery for Distribution Business\""
        },
        {
            "cell_type": "markdown",
            "metadata": {},
            "source": "### 1. A description of the problem and a discussion of the background. "
        },
        {
            "cell_type": "markdown",
            "metadata": {},
            "source": "For the purpose of this capstone project assignment, let's assume that there is a middle-sized wholesale distribution business which is delivering fresh produce and meats from Ontario farms to various companies such as restaurants, convenience stores, bakeries, and local meal kit delivery services.<br>\n\nThis wholesale distribution business owner is looking into expanding her delivery services to businesses in North York neighbourhood of Toronto. She is interested in the North York Neighbourhood because she knows that it is one of the largest areas of Toronto. <br>\n\nThis wholesale distribution business owner is looking to understand with the help of the data analysis:<br>\n\na)\twhat sorts of businesses are located in the North York neighbourhood of Toronto; <br>\nb)\thow many companies or venues are located in the North York neighbourhood of Toronto and its sub-regions (e.g., \u201cVictoria Village\u201d); and <br>\nc)\twhat are the top most popular venues? <br>\n\nThis information would allow the business owner to know what venues she should be contacting in North York to offers her wholesale distribution services of supplying fresh produce and meats from the Ontario farms. <br>\n"
        },
        {
            "cell_type": "markdown",
            "metadata": {},
            "source": "### 2. A description of the data and how it will be used to solve the problem. "
        },
        {
            "cell_type": "markdown",
            "metadata": {},
            "source": "The data that I will use to address the questions of the analysis will be the following:<br>\n\n1.\tToronto neighborhoods data sourced from https://en.wikipedia.org/wiki/List_of_postal_codes_of_Canada:_M <br>\n2.\tGeolocations data sourced from https://cocl.us/Geospatial_data <br>\n3.\tVenues data sourced from www.foursquare.com (including venue location, name and category)<br>\n\nThe obtained data will be analyzed to answer the questions of the study. <br>\nSpecifically, I will find the number of venues located in the North York area that can be served by the wholesale distribution business, the popularity of these venues, and categories of these venues. <br>\nI will then provide a conclusion as to whether the North York neighbourhood could be a good location for business expansion and serach of customers for the wholesale distribution business. <br>\n"
        },
        {
            "cell_type": "code",
            "execution_count": null,
            "metadata": {},
            "outputs": [],
            "source": ""
        }
    ],
    "metadata": {
        "kernelspec": {
            "display_name": "Python 3.6",
            "language": "python",
            "name": "python3"
        },
        "language_info": {
            "codemirror_mode": {
                "name": "ipython",
                "version": 3
            },
            "file_extension": ".py",
            "mimetype": "text/x-python",
            "name": "python",
            "nbconvert_exporter": "python",
            "pygments_lexer": "ipython3",
            "version": "3.6.9"
        }
    },
    "nbformat": 4,
    "nbformat_minor": 1
}